{
 "cells": [
  {
   "cell_type": "code",
   "execution_count": 4,
   "id": "19af06da-5b90-44d5-8718-8a44ff605b09",
   "metadata": {},
   "outputs": [
    {
     "name": "stdout",
     "output_type": "stream",
     "text": [
      "Top 10 similar users to user 1:\n",
      "user_id\n",
      "773    0.204792\n",
      "868    0.202321\n",
      "592    0.196592\n",
      "880    0.195801\n",
      "429    0.190661\n",
      "276    0.187476\n",
      "916    0.186358\n",
      "222    0.182415\n",
      "457    0.182253\n",
      "8      0.180891\n",
      "Name: 1, dtype: float64\n",
      "\n",
      "Expected rating for user 1 on item 508: 4.20\n"
     ]
    }
   ],
   "source": [
    "import pandas as pd\n",
    "import numpy as np\n",
    "from sklearn.metrics.pairwise import cosine_similarity\n",
    "from scipy.spatial.distance import euclidean\n",
    "\n",
    "ratings = pd.read_csv('ml-100k/u.data', sep='\\t', names=['user_id', 'item_id', 'rating', 'timestamp'])\n",
    "\n",
    "utility_matrix = ratings.pivot(index='user_id', columns='item_id', values='rating')\n",
    "centered_matrix = utility_matrix.sub(utility_matrix.mean(axis=1), axis=0)\n",
    "filled_matrix = centered_matrix.fillna(0)\n",
    "\n",
    "similarities = cosine_similarity(filled_matrix)\n",
    "\n",
    "similarity_df = pd.DataFrame(similarities, index=utility_matrix.index, columns=utility_matrix.index)\n",
    "\n",
    "top_10_similar_users = similarity_df.loc[1].drop(1).sort_values(ascending=False).head(10)\n",
    "print(\"Top 10 similar users to user 1:\")\n",
    "print(top_10_similar_users)\n",
    "\n",
    "item_508_ratings = utility_matrix.loc[top_10_similar_users.index, 508].dropna()\n",
    "\n",
    "expected_rating = item_508_ratings.mean()\n",
    "print(f\"\\nExpected rating for user 1 on item 508: {expected_rating:.2f}\")"
   ]
  },
  {
   "cell_type": "markdown",
   "id": "7186d587-90f1-4e83-9156-71fd519b615d",
   "metadata": {},
   "source": [
    "Top 10 similar users to user 1:\n",
    "\n",
    "user_id\n",
    "\n",
    "773    \n",
    "868    \n",
    "592    \n",
    "880    \n",
    "429    \n",
    "276    \n",
    "916    \n",
    "222    \n",
    "457    \n",
    "8      \n",
    "\n",
    "Expected rating for user 1 on item 508: 4.20"
   ]
  },
  {
   "cell_type": "code",
   "execution_count": 5,
   "id": "d6ed5327-5d81-46fa-be47-6de21e22cac3",
   "metadata": {},
   "outputs": [
    {
     "name": "stdout",
     "output_type": "stream",
     "text": [
      "Predicted rating for User 200 on Movie 95: 3.8573\n",
      "Predicted rating for User 15  on Movie 95: 2.9594\n",
      "Recommend Movie 95 to: User 200\n"
     ]
    }
   ],
   "source": [
    "from sklearn.metrics.pairwise import cosine_similarity\n",
    "import numpy as np\n",
    "\n",
    "users_rated_95 = centered_matrix[95].dropna().index\n",
    "def predict_rating(target_user_id):\n",
    "    target_vector = centered_matrix.loc[target_user_id]\n",
    "    similarities = []\n",
    "    ratings = []\n",
    "\n",
    "    for other_user_id in users_rated_95:\n",
    "        if other_user_id == target_user_id:\n",
    "            continue\n",
    "\n",
    "        other_vector = centered_matrix.loc[other_user_id]\n",
    "        common_items = (~target_vector.isna()) & (~other_vector.isna())\n",
    "\n",
    "        if common_items.sum() == 0:\n",
    "            continue \n",
    "\n",
    "        vec1 = target_vector[common_items].values\n",
    "        vec2 = other_vector[common_items].values\n",
    "        sim = cosine_similarity([vec1], [vec2])[0][0]\n",
    "        similarities.append(sim)\n",
    "        rating = utility_matrix.loc[other_user_id, 95]\n",
    "        ratings.append(rating)\n",
    "\n",
    "    similarities = np.array(similarities)\n",
    "    ratings = np.array(ratings)\n",
    "    if np.sum(np.abs(similarities)) == 0:\n",
    "        return np.nan  # 无法估计\n",
    "    predicted_rating = np.dot(similarities, ratings) / np.sum(np.abs(similarities))\n",
    "    return predicted_rating\n",
    "\n",
    "pred_200 = predict_rating(200)\n",
    "pred_15 = predict_rating(15)\n",
    "\n",
    "print(f\"Predicted rating for User 200 on Movie 95: {pred_200:.4f}\")\n",
    "print(f\"Predicted rating for User 15  on Movie 95: {pred_15:.4f}\")\n",
    "if pred_200 > pred_15:\n",
    "    print(\"Recommend Movie 95 to: User 200\")\n",
    "elif pred_15 > pred_200:\n",
    "    print(\"Recommend Movie 95 to: User 15\")\n",
    "else:\n",
    "    print(\"Recommend Movie 95 to: Either user (ratings equal)\")"
   ]
  },
  {
   "cell_type": "markdown",
   "id": "322f627e-b555-4b74-b669-0051024f9a3c",
   "metadata": {},
   "source": [
    "Predicted rating for User 200 on Movie 95: 3.8573\r\n",
    "Predicted rating for User 15  on Movie 95: 2.9594\r\n",
    "Recommend Movie 95 to: User 200 User 15"
   ]
  },
  {
   "cell_type": "code",
   "execution_count": null,
   "id": "3d3a32c9-0a6a-432e-a2fc-eaff41764e48",
   "metadata": {},
   "outputs": [],
   "source": []
  }
 ],
 "metadata": {
  "kernelspec": {
   "display_name": "Python 3 (ipykernel)",
   "language": "python",
   "name": "python3"
  },
  "language_info": {
   "codemirror_mode": {
    "name": "ipython",
    "version": 3
   },
   "file_extension": ".py",
   "mimetype": "text/x-python",
   "name": "python",
   "nbconvert_exporter": "python",
   "pygments_lexer": "ipython3",
   "version": "3.11.7"
  }
 },
 "nbformat": 4,
 "nbformat_minor": 5
}
